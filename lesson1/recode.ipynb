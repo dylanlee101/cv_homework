{
 "cells": [
  {
   "cell_type": "code",
   "execution_count": 2,
   "metadata": {},
   "outputs": [],
   "source": [
    "import cv2\n",
    "import random\n",
    "import numpy as np\n",
    "import matplotlib.pyplot as plt\n"
   ]
  },
  {
   "cell_type": "code",
   "execution_count": 3,
   "metadata": {},
   "outputs": [],
   "source": [
    "img_grey = cv2.imread('lena.jpg',0)\n",
    "cv2.imshow('lena',img_grey)\n",
    "key = cv2.waitKey()\n",
    "if key == 27:\n",
    "    cv2.destroyAllWindows()"
   ]
  },
  {
   "cell_type": "code",
   "execution_count": 4,
   "metadata": {},
   "outputs": [
    {
     "name": "stdout",
     "output_type": "stream",
     "text": [
      "[[169 169 168 ... 175 162 138]\n",
      " [169 169 168 ... 175 162 138]\n",
      " [169 169 168 ... 175 162 138]\n",
      " ...\n",
      " [ 53  53  59 ... 115 112 114]\n",
      " [ 53  53  64 ... 117 118 122]\n",
      " [ 53  53  64 ... 117 118 122]]\n"
     ]
    }
   ],
   "source": [
    "print(img_grey)"
   ]
  },
  {
   "cell_type": "code",
   "execution_count": 5,
   "metadata": {},
   "outputs": [
    {
     "name": "stdout",
     "output_type": "stream",
     "text": [
      "uint8\n"
     ]
    }
   ],
   "source": [
    "print(img_grey.dtype)"
   ]
  },
  {
   "cell_type": "code",
   "execution_count": 6,
   "metadata": {},
   "outputs": [
    {
     "name": "stdout",
     "output_type": "stream",
     "text": [
      "(512, 512)\n"
     ]
    }
   ],
   "source": [
    "print(img_grey.shape)"
   ]
  },
  {
   "cell_type": "code",
   "execution_count": 7,
   "metadata": {},
   "outputs": [],
   "source": [
    "img = cv2.imread(\"lena.jpg\")\n",
    "cv2.imshow('lena',img)\n",
    "key = cv2.waitKey()\n",
    "if key == 27:\n",
    "    cv2.destroyAllWindows()"
   ]
  },
  {
   "cell_type": "code",
   "execution_count": 8,
   "metadata": {},
   "outputs": [],
   "source": [
    "img_crop = img[:100,:200]\n",
    "cv2.imshow('lena_crop',img_crop)\n",
    "key = cv2.waitKey()\n",
    "if key == 27:\n",
    "    cv2.destroyAllWindows()"
   ]
  },
  {
   "cell_type": "code",
   "execution_count": 9,
   "metadata": {},
   "outputs": [],
   "source": [
    "B,G,R = cv2.split(img)\n",
    "cv2.imshow('B',B)\n",
    "cv2.imshow('R',R)\n",
    "cv2.imshow('G',G)\n",
    "cv2.imshow('lena',img)\n",
    "key = cv2.waitKey()\n",
    "if key == 27:\n",
    "    cv2.destroyAllWindows()"
   ]
  },
  {
   "cell_type": "code",
   "execution_count": 10,
   "metadata": {},
   "outputs": [],
   "source": [
    "def random_light_color(img):\n",
    "    B,G,R = cv2.split(img)\n",
    "    for B_ in [B,G,R]:\n",
    "        b_rand = random.randint(-50,50)\n",
    "        if b_rand == 0:\n",
    "            pass\n",
    "        elif b_rand > 0:\n",
    "            lim = 255 - b_rand\n",
    "            B_[B_>lim] = 255\n",
    "            B_[B_<=lim] = (b_rand+B_[B_<=lim]).astype(img.dtype)\n",
    "        elif b_rand < 0:\n",
    "            lim = 0-b_rand\n",
    "            B_[B_<lim] = 0\n",
    "            B_[B_>=lim] = (b_rand + B_[B_>=lim]).astype(img.dtype)\n",
    "    img_merge = cv2.merge((B,G,R))\n",
    "    return img_merge"
   ]
  },
  {
   "cell_type": "code",
   "execution_count": 11,
   "metadata": {},
   "outputs": [],
   "source": [
    "chage_color = random_light_color(img)\n",
    "cv2.imshow('lena_color',chage_color)\n",
    "key = cv2.waitKey()\n",
    "if key == 27:\n",
    "    cv2.destroyAllWindows()"
   ]
  },
  {
   "cell_type": "code",
   "execution_count": 12,
   "metadata": {},
   "outputs": [],
   "source": [
    "def adjust_gamma(image,gamma=1.0):\n",
    "    invGamma = 1.0 / gamma\n",
    "    table = []\n",
    "    for i in range(256):\n",
    "        table.append(((i/255.0) ** invGamma)*255)\n",
    "    table = np.array(table).astype(\"uint8\")\n",
    "    return cv2.LUT(image,table)"
   ]
  },
  {
   "cell_type": "code",
   "execution_count": 13,
   "metadata": {},
   "outputs": [],
   "source": [
    "img_brighter = adjust_gamma(img,2)"
   ]
  },
  {
   "cell_type": "code",
   "execution_count": 14,
   "metadata": {},
   "outputs": [],
   "source": [
    "cv2.imshow(\"img\",img)\n",
    "cv2.imshow(\"img_brighter\",img_brighter)\n",
    "key = cv2.waitKey()\n",
    "if key == 27:\n",
    "    cv2.destroyAllWindows()"
   ]
  },
  {
   "cell_type": "code",
   "execution_count": 15,
   "metadata": {},
   "outputs": [
    {
     "data": {
      "image/png": "[encoded data removed]",
      "text/plain": [
       "<Figure size 432x288 with 1 Axes>"
      ]
     },
     "metadata": {},
     "output_type": "display_data"
    }
   ],
   "source": [
    "#histogram\n",
    "img_small_brighter = cv2.resize(img_brighter,(int(img_brighter.shape[0]*0.5),int(img_brighter.shape[1]*0.5)))\n",
    "plt.hist(img_brighter.flatten(),256,[0,256],color='r')\n",
    "img_yuv = cv2.cvtColor(img_small_brighter,cv2.COLOR_BGR2YUV)\n",
    "img_yuv[:,:,0] = cv2.equalizeHist(img_yuv[:,:,0])\n",
    "img_output = cv2.cvtColor(img_yuv,cv2.COLOR_YCR_CB2BGR)\n",
    "cv2.imshow('color input image',img_small_brighter)\n",
    "cv2.imshow('Histogram equalized',img_output)\n",
    "key = cv2.waitKey()\n",
    "if key == 27:\n",
    "    cv2.destroyAllWindows()"
   ]
  },
  {
   "cell_type": "code",
   "execution_count": 22,
   "metadata": {},
   "outputs": [],
   "source": [
    "#rotation\n",
    "M = cv2.getRotationMatrix2D((img.shape[1] / 2 ,img.shape[0] / 2),30,1)\n",
    "img_rotate = cv2.warpAffine(img,M,(int(img.shape[1]),img.shape[0]))\n",
    "cv2.imshow('rotated lena',img_rotate)\n",
    "key = cv2.waitKey()\n",
    "if key == 27:\n",
    "    cv2.destroyAllWindows()"
   ]
  },
  {
   "cell_type": "code",
   "execution_count": 23,
   "metadata": {},
   "outputs": [],
   "source": [
    "img_rotate2 = cv2.warpAffine(img,M,(img.shape[1],img.shape[0]))\n",
    "cv2.imshow('rotated lena',img_rotate2)\n",
    "key = cv2.waitKey()\n",
    "if key == 27:\n",
    "    cv2.destroyAllWindows()"
   ]
  },
  {
   "cell_type": "code",
   "execution_count": 24,
   "metadata": {},
   "outputs": [],
   "source": [
    "M = cv2.getRotationMatrix2D((img.shape[1] / 2 ,img.shape[0] / 2),30,0.5)\n",
    "img_rotate = cv2.warpAffine(img,M,(int(img.shape[1]),img.shape[0]))\n",
    "cv2.imshow('rotated lena',img_rotate)\n",
    "key = cv2.waitKey()\n",
    "if key == 27:\n",
    "    cv2.destroyAllWindows()"
   ]
  },
  {
   "cell_type": "code",
   "execution_count": 27,
   "metadata": {},
   "outputs": [],
   "source": [
    "#Affine Transform\n",
    "rows,cols,ch = img.shape\n",
    "pts1 = np.float32([[0,0],[cols-1,0],[0,rows-1]])\n",
    "pts2 = np.float32([[cols *0.2,rows*0.1],[cols*0.9,rows*0.2],[cols*0.1,rows*0.9]])\n",
    "M = cv2.getAffineTransform(pts1,pts2)\n",
    "dst = cv2.warpAffine(img,M,(cols,rows))\n",
    "cv2.imshow(\"affine lena\",dst)\n",
    "key = cv2.waitKey()\n",
    "if key == 27:\n",
    "    cv2.destroyAllWindows()"
   ]
  },
  {
   "cell_type": "code",
   "execution_count": 30,
   "metadata": {},
   "outputs": [],
   "source": [
    "def random_wrap(img,row,col):\n",
    "    height,width,channels = img.shape\n",
    "    \n",
    "    #wrap:\n",
    "    random_margin = 60\n",
    "    x1 = random.randint(-random_margin,random_margin)\n",
    "    y1 = random.randint(-random_margin,random_margin)\n",
    "    x2 = random.randint(width-random_margin-1,width -1)\n",
    "    y2 = random.randint(-random_margin,random_margin)\n",
    "    x3 = random.randint(width-random_margin-1,width -1)\n",
    "    y3 = random.randint(height-random_margin-1,height -1)\n",
    "    x4 = random.randint(-random_margin,random_margin)\n",
    "    y4 = random.randint(height-random_margin-1,height -1)\n",
    "    \n",
    "    dx1 = random.randint(-random_margin,random_margin)\n",
    "    dy1 = random.randint(-random_margin,random_margin)\n",
    "    dx2 = random.randint(width-random_margin-1,width -1)\n",
    "    dy2 = random.randint(-random_margin,random_margin)\n",
    "    dx3 = random.randint(width-random_margin-1,width -1)\n",
    "    dy3 = random.randint(height-random_margin-1,height -1)\n",
    "    dx4 = random.randint(-random_margin,random_margin)\n",
    "    dy4 = random.randint(height-random_margin-1,height -1)\n",
    "    \n",
    "    pts1 = np.float32([[x1,y1],[x2,y2],[x3,y3],[x4,y4]])\n",
    "    pts2 = np.float32([[dx1,dy1],[dx2,dy2],[dx3,dy3],[dx4,dy4]])\n",
    "    M_warp = cv2.getPerspectiveTransform(pts1,pts2)\n",
    "    img_warp = cv2.warpPerspective(img,M_warp,(width,height))\n",
    "    return M_warp,img_warp\n",
    "M_warp,img_warp = random_wrap(img,img.shape[0],img.shape[1])\n",
    "cv2.imshow('lena_wrap',img_warp)\n",
    "key = cv2.waitKey()\n",
    "if key == 27:\n",
    "    cv2.destroyAllWindows()"
   ]
  },
  {
   "cell_type": "code",
   "execution_count": null,
   "metadata": {},
   "outputs": [],
   "source": []
  }
 ],
 "metadata": {
  "kernelspec": {
   "display_name": "Python 3",
   "language": "python",
   "name": "python3"
  },
  "language_info": {
   "codemirror_mode": {
    "name": "ipython",
    "version": 3
   },
   "file_extension": ".py",
   "mimetype": "text/x-python",
   "name": "python",
   "nbconvert_exporter": "python",
   "pygments_lexer": "ipython3",
   "version": "3.6.5"
  }
 },
 "nbformat": 4,
 "nbformat_minor": 2
}
