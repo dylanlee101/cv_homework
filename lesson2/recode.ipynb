{
 "cells": [
  {
   "cell_type": "code",
   "execution_count": 1,
   "metadata": {},
   "outputs": [],
   "source": [
    "import cv2\n",
    "import numpy as np"
   ]
  },
  {
   "cell_type": "code",
   "execution_count": 2,
   "metadata": {},
   "outputs": [],
   "source": [
    "img = cv2.imread(\"lena.jpg\")\n",
    "cv2.imshow(\"lena\",img)\n",
    "key = cv2.waitKey()\n",
    "if key == 27:\n",
    "    cv2.destroyAllWindows()"
   ]
  },
  {
   "cell_type": "code",
   "execution_count": 4,
   "metadata": {},
   "outputs": [],
   "source": [
    "#Gaussian Kernel Effect\n",
    "g_img = cv2.GaussianBlur(img.copy(),(7,7),5)\n",
    "cv2.imshow(\"gaussian blur lena\",g_img)\n",
    "key = cv2.waitKey()\n",
    "if key == 27:\n",
    "    cv2.destroyAllWindows()"
   ]
  },
  {
   "cell_type": "code",
   "execution_count": 5,
   "metadata": {},
   "outputs": [],
   "source": [
    "#kenel = (17,17),更模糊\n",
    "g_img2 = cv2.GaussianBlur(img.copy(),(17,17),5)\n",
    "cv2.imshow(\"gaussian blur lena\",g_img2)\n",
    "key = cv2.waitKey()\n",
    "if key == 27:\n",
    "    cv2.destroyAllWindows()"
   ]
  },
  {
   "cell_type": "code",
   "execution_count": 6,
   "metadata": {},
   "outputs": [],
   "source": [
    "#方差小，图像锐化，中心点作用大\n",
    "g_img3 = cv2.GaussianBlur(img.copy(),(7,7),1)\n",
    "cv2.imshow(\"Gaussian blur lena\",g_img3)\n",
    "key = cv2.waitKey()\n",
    "if key == 27:\n",
    "    cv2.destroyAllWindows()"
   ]
  },
  {
   "cell_type": "code",
   "execution_count": 7,
   "metadata": {},
   "outputs": [
    {
     "name": "stdout",
     "output_type": "stream",
     "text": [
      "[[0.12895603]\n",
      " [0.14251846]\n",
      " [0.15133131]\n",
      " [0.1543884 ]\n",
      " [0.15133131]\n",
      " [0.14251846]\n",
      " [0.12895603]]\n"
     ]
    }
   ],
   "source": [
    "# Gaussian kernel\n",
    "kernel = cv2.getGaussianKernel(7,5)\n",
    "print(kernel)"
   ]
  },
  {
   "cell_type": "code",
   "execution_count": 8,
   "metadata": {},
   "outputs": [],
   "source": [
    "#分步高斯效果\n",
    "g1_img = cv2.GaussianBlur(img.copy(),(7,7),5)\n",
    "g2_img = cv2.sepFilter2D(img.copy(),-1,kernel,kernel)\n",
    "cv2.imshow('g1_blur_lena',g1_img)\n",
    "cv2.imshow('g2_blur_lena',g2_img)\n",
    "key = cv2.waitKey()\n",
    "if key == 27:\n",
    "    cv2.destroyAllWindows()"
   ]
  },
  {
   "cell_type": "code",
   "execution_count": 9,
   "metadata": {},
   "outputs": [],
   "source": [
    "#2nd derivative : laplacian (双边缘效果)\n",
    "kernel_lap = np.array([[0,1,0],[1,-4,1],[0,1,0]],np.float32)\n",
    "lap_img = cv2.filter2D(img.copy(),-1,kernel=kernel_lap)\n",
    "cv2.imshow(\"lap_lena\",lap_img)\n",
    "key = cv2.waitKey()\n",
    "if key == 27:\n",
    "    cv2.destroyAllWindows()"
   ]
  },
  {
   "cell_type": "code",
   "execution_count": 10,
   "metadata": {},
   "outputs": [],
   "source": [
    "#图像锐化 = edge+ori\n",
    "kernel_sharpen = np.array([[0,1,0],[1,-3,1],[0,1,0]],np.float32)\n",
    "lap_img2 = cv2.filter2D(img.copy(),-1,kernel=kernel_sharpen)\n",
    "cv2.imshow(\"sharp_lena\",lap_img2)\n",
    "key = cv2.waitKey()\n",
    "if key == 27:\n",
    "    cv2.destroyAllWindows()"
   ]
  },
  {
   "cell_type": "code",
   "execution_count": 11,
   "metadata": {},
   "outputs": [],
   "source": [
    "#上面的是有问题的，会产生模糊，周围有4个1，中间是-3，虽有边缘效果，但是周围的1会使原kernel有\n",
    "#滤波效果，使图像变的模糊\n",
    "#解决：取kernel_lap的相反数，再加上原图像，这样会突出中心像素，效果类似于小方差，既有边缘效果，又可使图像清晰\n",
    "kernel_sharp = np.array([[0,-1,0],[-1,5,-1],[0,-1,0]],np.float32)\n",
    "lap_img3 = cv2.filter2D(img.copy(),-1,kernel=kernel_sharp)\n",
    "cv2.imshow('sharp_lena',lap_img3)\n",
    "key = cv2.waitKey()\n",
    "if key == 27:\n",
    "    cv2.destroyAllWindows()"
   ]
  },
  {
   "cell_type": "code",
   "execution_count": 12,
   "metadata": {},
   "outputs": [],
   "source": [
    "#不仅考虑x，y方向上的梯度，同时考虑对角线方向的梯度\n",
    "kernel_sharp = np.array([[1,1,1],[1,-7,1],[1,1,1]],np.float32)\n",
    "lap_img4 = cv2.filter2D(img.copy(),-1,kernel=kernel_sharp)\n",
    "cv2.imshow('sharp_lena',lap_img4)\n",
    "key = cv2.waitKey()\n",
    "if key == 27:\n",
    "    cv2.destroyAllWindows()"
   ]
  },
  {
   "cell_type": "code",
   "execution_count": 13,
   "metadata": {},
   "outputs": [],
   "source": [
    "kernel_sharp = np.array([[-1,-1,-1],[-1,9,-1],[-1,-1,-1]],np.float32)\n",
    "lap_img5 = cv2.filter2D(img.copy(),-1,kernel=kernel_sharp)\n",
    "cv2.imshow('sharp_lena5',lap_img5)\n",
    "cv2.imshow('sharp_lena4',lap_img4)\n",
    "key = cv2.waitKey()\n",
    "if key == 27:\n",
    "    cv2.destroyAllWindows()"
   ]
  },
  {
   "cell_type": "code",
   "execution_count": 14,
   "metadata": {},
   "outputs": [],
   "source": [
    "#####edge#####\n",
    "\n",
    "#x\n",
    "edgex = np.array([[-1,-2,-1],[0,0,0],[1,2,1]],np.float32)\n",
    "sharp_img = cv2.filter2D(img.copy(),-1,kernel=edgex)\n",
    "cv2.imshow('edgex_lena',sharp_img)\n",
    "key = cv2.waitKey()\n",
    "if key == 27:\n",
    "    cv2.destroyAllWindows()"
   ]
  },
  {
   "cell_type": "code",
   "execution_count": 15,
   "metadata": {},
   "outputs": [],
   "source": [
    "#y\n",
    "edgey = np.array([[-1,0,1],[-2,0,2],[-1,0,1]],np.float32)\n",
    "sharpy_img = cv2.filter2D(img.copy(),-1,kernel=edgey)\n",
    "cv2.imshow('edgex_lena',sharp_img)\n",
    "cv2.imshow('edgey_lena',sharpy_img)\n",
    "key = cv2.waitKey()\n",
    "if key == 27:\n",
    "    cv2.destroyAllWindows()"
   ]
  },
  {
   "cell_type": "code",
   "execution_count": 16,
   "metadata": {},
   "outputs": [
    {
     "name": "stdout",
     "output_type": "stream",
     "text": [
      "[[124. 125. 126. ... 245. 249. 252.]\n",
      " [126. 126. 125. ... 217. 230. 242.]\n",
      " [125. 126. 126. ... 184. 208. 231.]\n",
      " ...\n",
      " [246. 227. 200. ... 148. 184. 218.]\n",
      " [248. 236. 218. ... 183. 206. 230.]\n",
      " [251. 245. 236. ... 217. 230. 242.]]\n"
     ]
    }
   ],
   "source": [
    "#角点\n",
    "rabbit = cv2.imread(\"rabbit.png\")\n",
    "rabbit_gray = np.float32(cv2.cvtColor(rabbit,cv2.COLOR_BGR2GRAY))\n",
    "print(rabbit_gray)"
   ]
  },
  {
   "cell_type": "code",
   "execution_count": 17,
   "metadata": {},
   "outputs": [],
   "source": [
    "#float32是显示不出图像的\n",
    "cv2.imshow(\"rabbit_gray\",rabbit_gray)\n",
    "key = cv2.waitKey()\n",
    "if key == 27:\n",
    "    cv2.destroyAllWindows()"
   ]
  },
  {
   "cell_type": "code",
   "execution_count": 18,
   "metadata": {},
   "outputs": [],
   "source": [
    "#看不清是什么：1、float类型，2img_harris是每个pixel对于harris函数的响应值，没有必要去看是什么\n",
    "img_harris = cv2.cornerHarris(rabbit_gray,2,3,0.05)\n",
    "cv2.imshow(\"img_harris\",img_harris)\n",
    "key = cv2.waitKey()\n",
    "if key == 27:\n",
    "    cv2.destroyAllWindows()"
   ]
  },
  {
   "cell_type": "code",
   "execution_count": 19,
   "metadata": {},
   "outputs": [
    {
     "name": "stdout",
     "output_type": "stream",
     "text": [
      "[[ 1.73339844e-02  1.73339844e-02  8.08105469e-02 ...  4.25243800e+06\n",
      "   2.40748750e+04  4.29571367e+04]\n",
      " [ 1.73339844e-02  1.73339844e-02  8.08105469e-02 ...  4.25243800e+06\n",
      "   2.40748750e+04  4.29571367e+04]\n",
      " [-8.25195294e-03 -8.25195294e-03  5.44921868e-02 ...  1.03473625e+06\n",
      "  -5.47643062e+05  1.83426875e+05]\n",
      " ...\n",
      " [ 1.83774531e+05  1.83774531e+05 -7.41143750e+04 ...  1.28037000e+05\n",
      "  -1.52963675e+06  4.96862812e+05]\n",
      " [ 5.76970312e+03  5.76970312e+03 -3.70193844e+05 ... -8.71213750e+05\n",
      "  -9.49700375e+05  5.26790562e+05]\n",
      " [ 1.19033115e+04  1.19033115e+04  6.48545469e+04 ...  5.06646812e+05\n",
      "   5.43707938e+05  2.94956281e+05]]\n"
     ]
    }
   ],
   "source": [
    "print(img_harris)"
   ]
  },
  {
   "cell_type": "code",
   "execution_count": 20,
   "metadata": {},
   "outputs": [],
   "source": [
    "img_ha = cv2.dilate(img_harris,None)\n",
    "cv2.imshow(\"img_ha\",img_ha)\n",
    "key = cv2.waitKey()\n",
    "if key == 27:\n",
    "    cv2.destroyAllWindows()"
   ]
  },
  {
   "cell_type": "code",
   "execution_count": 22,
   "metadata": {},
   "outputs": [],
   "source": [
    "thres = 0.05 * np.max(img_harris)\n",
    "rabbit[img_harris>thres] = [0,255,0]\n",
    "cv2.imshow(\"rabbit_harris\",rabbit)\n",
    "key = cv2.waitKey()\n",
    "if key == 27:\n",
    "    cv2.destroyAllWindows()"
   ]
  },
  {
   "cell_type": "code",
   "execution_count": 23,
   "metadata": {},
   "outputs": [
    {
     "name": "stdout",
     "output_type": "stream",
     "text": [
      "(1098, 128)\n"
     ]
    }
   ],
   "source": [
    "#####sift######\n",
    "#create sift class\n",
    "sift = cv2.xfeatures2d.SIFT_create()\n",
    "# detect sift \n",
    "kp = sift.detect(img,None)\n",
    "# compute sift descriptor\n",
    "kp,des = sift.compute(img,kp)\n",
    "print(des.shape)\n",
    "img_sift = cv2.drawKeypoints(img,kp,outImage=np.array([]),flags=cv2.DRAW_MATCHES_FLAGS_DRAW_RICH_KEYPOINTS)\n",
    "cv2.imshow('lena_sift',img_sift)\n",
    "key = cv2.waitKey()\n",
    "if key == 27:\n",
    "    cv2.destroyAllWindows()"
   ]
  },
  {
   "cell_type": "code",
   "execution_count": null,
   "metadata": {},
   "outputs": [],
   "source": []
  }
 ],
 "metadata": {
  "kernelspec": {
   "display_name": "Python 3",
   "language": "python",
   "name": "python3"
  },
  "language_info": {
   "codemirror_mode": {
    "name": "ipython",
    "version": 3
   },
   "file_extension": ".py",
   "mimetype": "text/x-python",
   "name": "python",
   "nbconvert_exporter": "python",
   "pygments_lexer": "ipython3",
   "version": "3.6.5"
  }
 },
 "nbformat": 4,
 "nbformat_minor": 2
}
